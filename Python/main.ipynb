{
 "cells": [
  {
   "cell_type": "code",
   "execution_count": 1,
   "metadata": {},
   "outputs": [
    {
     "name": "stdout",
     "output_type": "stream",
     "text": [
      "3.8.5 (default, Sep  3 2020, 21:29:08) [MSC v.1916 64 bit (AMD64)]\n"
     ]
    }
   ],
   "source": [
    "## Librerias\n",
    "import os \n",
    "import numpy as np\n",
    "from sklearn.model_selection import KFold,RepeatedKFold\n",
    "from keras.preprocessing.image import ImageDataGenerator\n",
    "import tensorflow as tf\n",
    "from tensorflow.keras import Input, Model, optimizers,regularizers\n",
    "from tensorflow.keras.constraints import max_norm\n",
    "from tensorflow.keras.layers import Dense,\\\n",
    "                                    Conv2D,\\\n",
    "                                    BatchNormalization,\\\n",
    "                                    AveragePooling2D, \\\n",
    "                                    MaxPooling2D, \\\n",
    "                                    DepthwiseConv2D, \\\n",
    "                                    Activation, \\\n",
    "                                    Dropout,\\\n",
    "                                    Flatten"
   ]
  },
  {
   "cell_type": "code",
   "execution_count": null,
   "metadata": {},
   "outputs": [],
   "source": [
    "## Cargar data de training y test \n",
    "\n",
    "dir_task = r'C:\\Users\\Lenovo\\Documents\\UTEC\\Ciclo 7\\ProyectoCNN\\Python\\Dataset\\Test4'\n",
    "\n",
    "datagen_task = ImageDataGenerator(rescale=1./255)\n",
    "\n",
    "data_task = datagen_task.flow_from_directory(\n",
    "    dir_task, \n",
    "    batch_size = 100,\n",
    "    target_size=(128, 128),\n",
    "    class_mode = 'binary' ##binary\n",
    "    )\n"
   ]
  }
 ],
 "metadata": {
  "kernelspec": {
   "display_name": "Python 3",
   "language": "python",
   "name": "python3"
  },
  "language_info": {
   "codemirror_mode": {
    "name": "ipython",
    "version": 3
   },
   "file_extension": ".py",
   "mimetype": "text/x-python",
   "name": "python",
   "nbconvert_exporter": "python",
   "pygments_lexer": "ipython3",
   "version": "3.8.5"
  }
 },
 "nbformat": 4,
 "nbformat_minor": 4
}
